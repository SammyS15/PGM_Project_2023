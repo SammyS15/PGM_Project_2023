{
 "cells": [
  {
   "cell_type": "code",
   "execution_count": 1,
   "id": "f0be6cd6",
   "metadata": {
    "scrolled": false
   },
   "outputs": [
    {
     "name": "stdout",
     "output_type": "stream",
     "text": [
      "Reading YSE+ZTF SNANA-style data files from directory:  spec_yse_dr1\n",
      "int64 int64\n",
      "(247, 2) (247, 16)\n"
     ]
    }
   ],
   "source": [
    "# import torch\n",
    "import pandas as pd\n",
    "import numpy as np\n",
    "from sklearn.neural_network import MLPClassifier\n",
    "from sklearn.datasets import make_classification\n",
    "from sklearn.model_selection import train_test_split\n",
    "\n",
    "from read_yse_ztf_snana_dir import read_YSE_ZTF_snana_dir\n",
    "\n",
    "snid_list, meta_list, yse_ztf_fp_df_list = read_YSE_ZTF_snana_dir('spec_yse_dr1')\n",
    "real_data = pd.DataFrame(pd.read_csv('Real_Data.csv'))\n",
    "\n",
    "# extracting the IDs that have sufficient information \n",
    "truth_ids = list(real_data['ObjectID'])\n",
    "\n",
    "columns = ['object_id', 'transient_spec_class']\n",
    "\n",
    "specs = []\n",
    "for dic in meta_list:\n",
    "    spec = dic['transient_spec_class']\n",
    "    specs.append(spec)\n",
    "\n",
    "p = dict(zip(snid_list, specs))\n",
    "ground_truth_dict = dict(zip(snid_list, specs))\n",
    "ground_truth = pd.DataFrame(zip(snid_list, specs), columns=columns)\n",
    "    \n",
    "# extracting the spec labels corresponding to the truth ids\n",
    "labels = []\n",
    "for item in ground_truth_dict.keys():\n",
    "    if item in truth_ids:\n",
    "        labels.append(ground_truth_dict[item])\n",
    "\n",
    "real_truths = zip(truth_ids, labels)\n",
    "df_real_truths = pd.DataFrame(real_truths, columns=['id', 'class'])\n",
    "\n",
    "# remove weird classes\n",
    "# df_real_truths = df_real_truths.drop('SNIa-CSM', axis=0)\n",
    "df_real_truths = df_real_truths[~df_real_truths['class'].isin(['SNIa-CSM', 'SNIIP', 'SNIIn', \\\n",
    "            'SNIa-91T-like', 'SNIa-SC', 'SNIax[02cx-like]', 'SLSN-II', 'SNIIb', 'SLSN-I', 'SNIb/c', 'SNIc-BL'])]\n",
    "\n",
    "b = [x for x in range(df_real_truths.index[0], df_real_truths.index[-1] + 1)]\n",
    "a = set(df_real_truths.index)\n",
    "weird = list(df_real_truths.index ^ set(b))\n",
    "print(np.array(weird).dtype, real_data.index.dtype)\n",
    "\n",
    "# remove rows in real_data.csv that correspond to the removed weird classes\n",
    "real_data_rem = real_data[~real_data.index.isin(weird)]\n",
    "\n",
    "# remove the object ID column from real_data\n",
    "df_real_data = real_data_rem.drop('ObjectID', axis=1)\n",
    "labels = df_real_truths['class']\n",
    "\n",
    "print(df_real_truths.shape, df_real_data.shape)"
   ]
  },
  {
   "cell_type": "code",
   "execution_count": 2,
   "id": "3b44ba3e",
   "metadata": {
    "scrolled": true
   },
   "outputs": [
    {
     "name": "stdout",
     "output_type": "stream",
     "text": [
      "training accuracy, unaltered data:  0.5837837837837838\n",
      "testing accuracy, unaltered data:  0.46774193548387094\n"
     ]
    }
   ],
   "source": [
    "'''SciKit Learn MLP Classifier on all dimensions'''\n",
    "from sklearn.metrics import confusion_matrix\n",
    "\n",
    "# hyperparameters\n",
    "max_iter = 500\n",
    "stopping = False\n",
    "alpha = 0.0001\n",
    "random_state = 42\n",
    "\n",
    "\n",
    "X_train, X_test, y_train, y_test = train_test_split(df_real_data, labels, stratify=labels)\n",
    "\n",
    "clf = MLPClassifier(random_state=random_state, max_iter=max_iter, early_stopping=stopping, alpha=alpha).fit(X_train, y_train)\n",
    "\n",
    "# print(clf.predict_proba(X_test).shape)\n",
    "\n",
    "pred_labels = clf.predict(X_test)\n",
    "\n",
    "# print the confusion matrix (should be k by k, where k = 11)\n",
    "conf = confusion_matrix(y_test, pred_labels, normalize='all')\n",
    "# print(conf)\n",
    "\n",
    "print('training accuracy, unaltered data: ', clf.score(X_train, y_train))\n",
    "print('testing accuracy, unaltered data: ', clf.score(X_test, y_test))"
   ]
  },
  {
   "cell_type": "code",
   "execution_count": 3,
   "id": "6f69de7a",
   "metadata": {
    "scrolled": true
   },
   "outputs": [
    {
     "name": "stderr",
     "output_type": "stream",
     "text": [
      "WARNING: AstropyDeprecationWarning: The update_default_config function is deprecated and may be removed in a future version. [sncosmo]\n"
     ]
    },
    {
     "name": "stdout",
     "output_type": "stream",
     "text": [
      "training accuracy, ppca:  0.8324324324324325\n",
      "testing accuracy, ppca:  0.7903225806451613\n"
     ]
    },
    {
     "name": "stderr",
     "output_type": "stream",
     "text": [
      "/Users/salmasalhi/opt/anaconda3/lib/python3.8/site-packages/sklearn/neural_network/_multilayer_perceptron.py:692: ConvergenceWarning: Stochastic Optimizer: Maximum iterations (500) reached and the optimization hasn't converged yet.\n",
      "  warnings.warn(\n"
     ]
    }
   ],
   "source": [
    "'''SciKit Learn MLP Classifier on reduced dimensions'''\n",
    "\n",
    "from PPCA import applyppca\n",
    "from sklearn.preprocessing import StandardScaler\n",
    "\n",
    "fakes_df = pd.read_csv(\"./SNIa_sims.csv\", index_col=0)\n",
    "\n",
    "pca_num = 8\n",
    "\n",
    "ss = StandardScaler()\n",
    "smaller = ss.fit_transform(df_real_data)\n",
    "real_small = pd.DataFrame(smaller)\n",
    "\n",
    "ss = StandardScaler()\n",
    "smaller = ss.fit_transform(fakes_df)\n",
    "fake_small = pd.DataFrame(smaller)\n",
    "\n",
    "W, var, pcs2_X_real, pcs2_X_fake, score2, coeff2 = applyppca(dataset_real=real_small, dataset_fakes=fake_small, pca_num=pca_num)\n",
    "\n",
    "# must transpose output of applyppca\n",
    "X_train, X_test, y_train, y_test = train_test_split(pcs2_X_real.T, labels, stratify=labels)\n",
    "\n",
    "clf = MLPClassifier(random_state=random_state, max_iter=max_iter, early_stopping=stopping, alpha=alpha).fit(X_train, y_train)\n",
    "\n",
    "pred_labels = clf.predict(X_test)\n",
    "\n",
    "# print the confusion matrix (should be k by k, where k = 11)\n",
    "conf = confusion_matrix(y_test, pred_labels)\n",
    "\n",
    "# compare the predicted and test labels\n",
    "compare = zip(np.array(y_test), pred_labels)\n",
    "\n",
    "df_compare = pd.DataFrame(compare, columns=['truths', 'predicted'])\n",
    "# print(df_compare)\n",
    "\n",
    "print('training accuracy, ppca: ', clf.score(X_train, y_train))\n",
    "print('testing accuracy, ppca: ', clf.score(X_test, y_test))"
   ]
  },
  {
   "cell_type": "code",
   "execution_count": 4,
   "id": "1591ac63",
   "metadata": {},
   "outputs": [
    {
     "name": "stdout",
     "output_type": "stream",
     "text": [
      "training accuracy, original pca:  0.8648648648648649\n",
      "testing accuracy, original pca:  0.8064516129032258\n"
     ]
    },
    {
     "name": "stderr",
     "output_type": "stream",
     "text": [
      "/Users/salmasalhi/opt/anaconda3/lib/python3.8/site-packages/sklearn/neural_network/_multilayer_perceptron.py:692: ConvergenceWarning: Stochastic Optimizer: Maximum iterations (500) reached and the optimization hasn't converged yet.\n",
      "  warnings.warn(\n"
     ]
    }
   ],
   "source": [
    "'''SciKit Learn MLP test on original PCA'''\n",
    "\n",
    "from PPCA import applypca\n",
    "\n",
    "# apply the pca\n",
    "pca, pcs_X_real, pcs_X_fakes, score, coeff = applypca(dataset_real = df_real_data, dataset_fakes=fakes_df, pca_num=pca_num)\n",
    "\n",
    "X_train, X_test, y_train, y_test = train_test_split(pcs_X_real, labels, stratify=labels)\n",
    "\n",
    "clf = MLPClassifier(random_state=random_state, max_iter=max_iter, early_stopping=stopping, alpha=alpha).fit(X_train, y_train)\n",
    "\n",
    "pred_labels = clf.predict(X_test)\n",
    "\n",
    "# print the confusion matrix (should be k by k, where k = 11)\n",
    "conf = confusion_matrix(y_test, pred_labels)\n",
    "\n",
    "# compare the predicted and test labels\n",
    "compare = zip(np.array(y_test), pred_labels)\n",
    "\n",
    "df_compare = pd.DataFrame(compare, columns=['truths', 'predicted'])\n",
    "# print(df_compare)\n",
    "\n",
    "print('training accuracy, original pca: ', clf.score(X_train, y_train))\n",
    "print('testing accuracy, original pca: ', clf.score(X_test, y_test))"
   ]
  },
  {
   "cell_type": "code",
   "execution_count": 5,
   "id": "7547074b",
   "metadata": {},
   "outputs": [
    {
     "name": "stderr",
     "output_type": "stream",
     "text": [
      "/Users/salmasalhi/opt/anaconda3/lib/python3.8/site-packages/sklearn/neural_network/_multilayer_perceptron.py:692: ConvergenceWarning: Stochastic Optimizer: Maximum iterations (500) reached and the optimization hasn't converged yet.\n",
      "  warnings.warn(\n",
      "/Users/salmasalhi/opt/anaconda3/lib/python3.8/site-packages/sklearn/neural_network/_multilayer_perceptron.py:692: ConvergenceWarning: Stochastic Optimizer: Maximum iterations (500) reached and the optimization hasn't converged yet.\n",
      "  warnings.warn(\n",
      "/Users/salmasalhi/opt/anaconda3/lib/python3.8/site-packages/sklearn/neural_network/_multilayer_perceptron.py:692: ConvergenceWarning: Stochastic Optimizer: Maximum iterations (500) reached and the optimization hasn't converged yet.\n",
      "  warnings.warn(\n",
      "/Users/salmasalhi/opt/anaconda3/lib/python3.8/site-packages/sklearn/neural_network/_multilayer_perceptron.py:692: ConvergenceWarning: Stochastic Optimizer: Maximum iterations (500) reached and the optimization hasn't converged yet.\n",
      "  warnings.warn(\n",
      "/Users/salmasalhi/opt/anaconda3/lib/python3.8/site-packages/sklearn/neural_network/_multilayer_perceptron.py:692: ConvergenceWarning: Stochastic Optimizer: Maximum iterations (500) reached and the optimization hasn't converged yet.\n",
      "  warnings.warn(\n",
      "/Users/salmasalhi/opt/anaconda3/lib/python3.8/site-packages/sklearn/neural_network/_multilayer_perceptron.py:692: ConvergenceWarning: Stochastic Optimizer: Maximum iterations (500) reached and the optimization hasn't converged yet.\n",
      "  warnings.warn(\n",
      "/Users/salmasalhi/opt/anaconda3/lib/python3.8/site-packages/sklearn/neural_network/_multilayer_perceptron.py:692: ConvergenceWarning: Stochastic Optimizer: Maximum iterations (500) reached and the optimization hasn't converged yet.\n",
      "  warnings.warn(\n",
      "/Users/salmasalhi/opt/anaconda3/lib/python3.8/site-packages/sklearn/neural_network/_multilayer_perceptron.py:692: ConvergenceWarning: Stochastic Optimizer: Maximum iterations (500) reached and the optimization hasn't converged yet.\n",
      "  warnings.warn(\n",
      "/Users/salmasalhi/opt/anaconda3/lib/python3.8/site-packages/sklearn/neural_network/_multilayer_perceptron.py:692: ConvergenceWarning: Stochastic Optimizer: Maximum iterations (500) reached and the optimization hasn't converged yet.\n",
      "  warnings.warn(\n",
      "/Users/salmasalhi/opt/anaconda3/lib/python3.8/site-packages/sklearn/neural_network/_multilayer_perceptron.py:692: ConvergenceWarning: Stochastic Optimizer: Maximum iterations (500) reached and the optimization hasn't converged yet.\n",
      "  warnings.warn(\n",
      "/Users/salmasalhi/opt/anaconda3/lib/python3.8/site-packages/sklearn/neural_network/_multilayer_perceptron.py:692: ConvergenceWarning: Stochastic Optimizer: Maximum iterations (500) reached and the optimization hasn't converged yet.\n",
      "  warnings.warn(\n",
      "/Users/salmasalhi/opt/anaconda3/lib/python3.8/site-packages/sklearn/neural_network/_multilayer_perceptron.py:692: ConvergenceWarning: Stochastic Optimizer: Maximum iterations (500) reached and the optimization hasn't converged yet.\n",
      "  warnings.warn(\n",
      "/Users/salmasalhi/opt/anaconda3/lib/python3.8/site-packages/sklearn/neural_network/_multilayer_perceptron.py:692: ConvergenceWarning: Stochastic Optimizer: Maximum iterations (500) reached and the optimization hasn't converged yet.\n",
      "  warnings.warn(\n",
      "/Users/salmasalhi/opt/anaconda3/lib/python3.8/site-packages/sklearn/neural_network/_multilayer_perceptron.py:692: ConvergenceWarning: Stochastic Optimizer: Maximum iterations (500) reached and the optimization hasn't converged yet.\n",
      "  warnings.warn(\n",
      "/Users/salmasalhi/opt/anaconda3/lib/python3.8/site-packages/sklearn/neural_network/_multilayer_perceptron.py:692: ConvergenceWarning: Stochastic Optimizer: Maximum iterations (500) reached and the optimization hasn't converged yet.\n",
      "  warnings.warn(\n"
     ]
    },
    {
     "name": "stdout",
     "output_type": "stream",
     "text": [
      "----------------No PCA or PPCA----------------\n",
      " run  training accuracy  testing accuracy\n",
      "   1           0.751351          0.758065\n",
      "   2           0.756757          0.709677\n",
      "   3           0.535135          0.451613\n",
      "   4           0.751351          0.758065\n",
      "   5           0.659459          0.677419\n",
      "   6           0.443243          0.435484\n",
      "   7           0.551351          0.467742\n",
      "   8           0.551351          0.467742 \n",
      "\n",
      "-----------------------PCA--------------------\n",
      " pca_nums  training accuracy  testing accuracy\n",
      "        6           0.848649          0.822581\n",
      "        7           0.837838          0.758065\n",
      "        8           0.832432          0.790323\n",
      "        9           0.859459          0.774194\n",
      "       10           0.848649          0.822581\n",
      "       11           0.864865          0.774194\n",
      "       12           0.881081          0.822581\n",
      "       13           0.875676          0.806452 \n",
      "\n",
      "----------------------PPCA--------------------\n",
      " pca_nums  training accuracy  testing accuracy\n",
      "        6           0.864865          0.790323\n",
      "        7           0.859459          0.758065\n",
      "        8           0.864865          0.806452\n",
      "        9           0.854054          0.806452\n",
      "       10           0.864865          0.774194\n",
      "       11           0.864865          0.806452\n",
      "       12           0.859459          0.806452\n",
      "       13           0.886486          0.774194\n"
     ]
    },
    {
     "name": "stderr",
     "output_type": "stream",
     "text": [
      "/Users/salmasalhi/opt/anaconda3/lib/python3.8/site-packages/sklearn/neural_network/_multilayer_perceptron.py:692: ConvergenceWarning: Stochastic Optimizer: Maximum iterations (500) reached and the optimization hasn't converged yet.\n",
      "  warnings.warn(\n"
     ]
    }
   ],
   "source": [
    "'''Comparisons across different pca_nums and original, pca, ppca'''\n",
    "\n",
    "# hyperparameters\n",
    "max_iter = 500\n",
    "stopping = False\n",
    "alpha = 0.0001\n",
    "random_state = 42\n",
    "\n",
    "columns = ['no pca or ppca', 'pca', 'ppca']\n",
    "rows = ['training accuracy', 'testing accuracy']\n",
    "\n",
    "training_accuracies_no = [] # 2d array, columns are training and testing accuracy, rows are the pca_nums\n",
    "training_accuracies_pca = []\n",
    "training_accuracies_ppca = []\n",
    "\n",
    "testing_accuracies_no = [] # 2d array, columns are training and testing accuracy, rows are the pca_nums\n",
    "testing_accuracies_pca = []\n",
    "testing_accuracies_ppca = []\n",
    "\n",
    "pca_nums = [6,7,8,9,10,11,12,13]\n",
    "\n",
    "for pca_num in pca_nums:\n",
    "    \n",
    "    # no application of either pca or ppca\n",
    "    X_train, X_test, y_train, y_test = train_test_split(df_real_data, labels, stratify=labels)\n",
    "    clf = MLPClassifier(random_state=random_state, max_iter=max_iter, early_stopping=stopping, alpha=alpha).fit(X_train, y_train)\n",
    "    training_accuracies_no.append(clf.score(X_train, y_train))\n",
    "    testing_accuracies_no.append(clf.score(X_test, y_test))\n",
    "    \n",
    "    # pca \n",
    "    W, var, pcs2_X_real, pcs2_X_fake, score2, coeff2 = applyppca(dataset_real=real_small, dataset_fakes=fake_small, pca_num=pca_num)\n",
    "    X_train, X_test, y_train, y_test = train_test_split(pcs2_X_real.T, labels, stratify=labels)\n",
    "    clf = MLPClassifier(random_state=random_state, max_iter=max_iter, early_stopping=stopping, alpha=alpha).fit(X_train, y_train)\n",
    "    training_accuracies_pca.append(clf.score(X_train, y_train))\n",
    "    testing_accuracies_pca.append(clf.score(X_test, y_test))\n",
    "    \n",
    "    # ppca\n",
    "    pca, pcs_X_real, pcs_X_fakes, score, coeff = applypca(dataset_real = df_real_data, dataset_fakes=fakes_df, pca_num=pca_num)\n",
    "    X_train, X_test, y_train, y_test = train_test_split(pcs_X_real, labels, stratify=labels)\n",
    "    clf = MLPClassifier(random_state=random_state, max_iter=max_iter, early_stopping=stopping, alpha=alpha).fit(X_train, y_train)\n",
    "    training_accuracies_ppca.append(clf.score(X_train, y_train))\n",
    "    testing_accuracies_ppca.append(clf.score(X_test, y_test))\n",
    "    \n",
    "massive_dic_no = {'run':np.arange(1,9), 'training accuracy':training_accuracies_no, 'testing accuracy':testing_accuracies_no}\n",
    "massive_dic_pca = {'pca_nums':pca_nums, 'training accuracy':training_accuracies_pca, 'testing accuracy':testing_accuracies_pca}\n",
    "massive_dic_ppca = {'pca_nums':pca_nums, 'training accuracy':training_accuracies_ppca, 'testing accuracy':testing_accuracies_ppca}\n",
    "\n",
    "print('----------------No PCA or PPCA----------------')\n",
    "print(pd.DataFrame(massive_dic_no).to_string(index=False), '\\n')\n",
    "print('-----------------------PCA--------------------')\n",
    "print(pd.DataFrame(massive_dic_pca).to_string(index=False), '\\n')\n",
    "print('----------------------PPCA--------------------')\n",
    "print(pd.DataFrame(massive_dic_ppca).to_string(index=False))"
   ]
  },
  {
   "cell_type": "code",
   "execution_count": null,
   "id": "54a2214d",
   "metadata": {
    "scrolled": true
   },
   "outputs": [],
   "source": []
  },
  {
   "cell_type": "code",
   "execution_count": null,
   "id": "29b21c33",
   "metadata": {},
   "outputs": [],
   "source": []
  }
 ],
 "metadata": {
  "kernelspec": {
   "display_name": "Python 3 (ipykernel)",
   "language": "python",
   "name": "python3"
  },
  "language_info": {
   "codemirror_mode": {
    "name": "ipython",
    "version": 3
   },
   "file_extension": ".py",
   "mimetype": "text/x-python",
   "name": "python",
   "nbconvert_exporter": "python",
   "pygments_lexer": "ipython3",
   "version": "3.8.12"
  }
 },
 "nbformat": 4,
 "nbformat_minor": 5
}
